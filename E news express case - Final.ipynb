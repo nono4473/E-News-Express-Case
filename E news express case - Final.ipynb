{
 "cells": [
  {
   "cell_type": "markdown",
   "metadata": {},
   "source": [
    "Background: \n",
    "\n",
    "An online news portal aims to expand its business by acquiring new subscribers. Every visitor to the website takes certain actions based on their interest. The company plans to analyze these interests and wants to determine whether a new feature will be effective or not. Companies often analyze users' responses to two variants of a product to decide which of the two variants is more effective. This experimental technique is known as a/b testing that is used to determine whether a new feature attracts users based on a chosen metric.\n",
    "\n",
    "Suppose you are hired as a Data Scientist in E-news Express. The design team of the company has created a new landing page. You have been assigned the task to decide whether the new landing page is more effective to gather new subscribers. Suppose you randomly selected 100 users and divided them equally into two groups. The old landing page is served to the first group (control group) and the new landing page is served to the second group (treatment group). Various data about the customers in both groups are collected in 'abtest.csv'. Perform the statistical analysis to answer the following questions using the collected data.\n",
    "\n",
    "Objective:\n",
    "\n",
    "Statistical analysis of business data. Explore the dataset and extract insights from the data. The idea is for you to get comfortable with doing statistical analysis in Python.\n",
    "\n",
    "You are expected to perform the statistical analysis to answer the following questions:\n",
    "\n",
    "* 1- Explore the dataset and extract insights using Exploratory Data Analysis.\n",
    "\n",
    "* 2- Do the users spend more time on the new landing page than the old landing page?\n",
    "\n",
    "* 3- Is the conversion rate (the proportion of users who visit the landing page and get converted) for the new page greater than  the conversion rate for the old page?\n",
    "\n",
    "* 4- Does the converted status depend on the preferred language? [Hint: Create a contingency table using the pandas.crosstab() function]\n",
    "\n",
    "* 5- Is the mean time spent on the new page same for the different language users?\n",
    "\n",
    "*Consider a significance level of 0.05 for all tests.\n",
    "\n",
    "Data Dictionary:\n",
    "\n",
    "user_id - This represents the user ID of the person visiting the website.\n",
    "\n",
    "group - This represents whether the user belongs to the first group (control) or the second group (treatment).\n",
    "\n",
    "landing_page - This represents whether the landing page is new or old.\n",
    "\n",
    "time_spent_on_the_page - This represents the time (in minutes) spent by the user on the landing page.\n",
    "\n",
    "converted - This represents whether the user gets converted to a subscriber of the news portal or not.\n",
    "\n",
    "language_preferred - This represents the language chosen by the user to view the landing page."
   ]
  },
  {
   "cell_type": "code",
   "execution_count": 1,
   "metadata": {},
   "outputs": [],
   "source": [
    "#importing the necessary libraries\n",
    "import numpy as np\n",
    "import pandas as pd\n",
    "import seaborn as sns\n",
    "import matplotlib.pyplot as plt\n",
    "\n",
    "%matplotlib inline\n",
    "\n",
    "import scipy.stats as stats"
   ]
  },
  {
   "cell_type": "code",
   "execution_count": 2,
   "metadata": {},
   "outputs": [
    {
     "data": {
      "text/html": [
       "<div>\n",
       "<style scoped>\n",
       "    .dataframe tbody tr th:only-of-type {\n",
       "        vertical-align: middle;\n",
       "    }\n",
       "\n",
       "    .dataframe tbody tr th {\n",
       "        vertical-align: top;\n",
       "    }\n",
       "\n",
       "    .dataframe thead th {\n",
       "        text-align: right;\n",
       "    }\n",
       "</style>\n",
       "<table border=\"1\" class=\"dataframe\">\n",
       "  <thead>\n",
       "    <tr style=\"text-align: right;\">\n",
       "      <th></th>\n",
       "      <th>user_id</th>\n",
       "      <th>group</th>\n",
       "      <th>landing_page</th>\n",
       "      <th>time_spent_on_the_page</th>\n",
       "      <th>converted</th>\n",
       "      <th>language_preferred</th>\n",
       "    </tr>\n",
       "  </thead>\n",
       "  <tbody>\n",
       "    <tr>\n",
       "      <th>0</th>\n",
       "      <td>546592</td>\n",
       "      <td>control</td>\n",
       "      <td>old</td>\n",
       "      <td>3.48</td>\n",
       "      <td>no</td>\n",
       "      <td>Spanish</td>\n",
       "    </tr>\n",
       "    <tr>\n",
       "      <th>1</th>\n",
       "      <td>546468</td>\n",
       "      <td>treatment</td>\n",
       "      <td>new</td>\n",
       "      <td>7.13</td>\n",
       "      <td>yes</td>\n",
       "      <td>English</td>\n",
       "    </tr>\n",
       "    <tr>\n",
       "      <th>2</th>\n",
       "      <td>546462</td>\n",
       "      <td>treatment</td>\n",
       "      <td>new</td>\n",
       "      <td>4.40</td>\n",
       "      <td>no</td>\n",
       "      <td>Spanish</td>\n",
       "    </tr>\n",
       "    <tr>\n",
       "      <th>3</th>\n",
       "      <td>546567</td>\n",
       "      <td>control</td>\n",
       "      <td>old</td>\n",
       "      <td>3.02</td>\n",
       "      <td>no</td>\n",
       "      <td>French</td>\n",
       "    </tr>\n",
       "    <tr>\n",
       "      <th>4</th>\n",
       "      <td>546459</td>\n",
       "      <td>treatment</td>\n",
       "      <td>new</td>\n",
       "      <td>4.75</td>\n",
       "      <td>yes</td>\n",
       "      <td>Spanish</td>\n",
       "    </tr>\n",
       "  </tbody>\n",
       "</table>\n",
       "</div>"
      ],
      "text/plain": [
       "   user_id      group landing_page  time_spent_on_the_page converted  \\\n",
       "0   546592    control          old                    3.48        no   \n",
       "1   546468  treatment          new                    7.13       yes   \n",
       "2   546462  treatment          new                    4.40        no   \n",
       "3   546567    control          old                    3.02        no   \n",
       "4   546459  treatment          new                    4.75       yes   \n",
       "\n",
       "  language_preferred  \n",
       "0            Spanish  \n",
       "1            English  \n",
       "2            Spanish  \n",
       "3             French  \n",
       "4            Spanish  "
      ]
     },
     "execution_count": 2,
     "metadata": {},
     "output_type": "execute_result"
    }
   ],
   "source": [
    "#loading the file into data\n",
    "data = pd.read_csv('abtest.csv')\n",
    "df = data.copy() # making a copy of the initial dataset in order to preserve an original intact\n",
    "df.head()#checking "
   ]
  },
  {
   "cell_type": "markdown",
   "metadata": {},
   "source": [
    "# 1 Dataset exploration - Univariate and Bivariate analysis"
   ]
  },
  {
   "cell_type": "code",
   "execution_count": 3,
   "metadata": {},
   "outputs": [
    {
     "name": "stdout",
     "output_type": "stream",
     "text": [
      "<class 'pandas.core.frame.DataFrame'>\n",
      "RangeIndex: 100 entries, 0 to 99\n",
      "Data columns (total 6 columns):\n",
      " #   Column                  Non-Null Count  Dtype  \n",
      "---  ------                  --------------  -----  \n",
      " 0   user_id                 100 non-null    int64  \n",
      " 1   group                   100 non-null    object \n",
      " 2   landing_page            100 non-null    object \n",
      " 3   time_spent_on_the_page  100 non-null    float64\n",
      " 4   converted               100 non-null    object \n",
      " 5   language_preferred      100 non-null    object \n",
      "dtypes: float64(1), int64(1), object(4)\n",
      "memory usage: 4.8+ KB\n"
     ]
    }
   ],
   "source": [
    "df.info()"
   ]
  },
  {
   "cell_type": "code",
   "execution_count": 4,
   "metadata": {},
   "outputs": [
    {
     "data": {
      "text/plain": [
       "(100, 6)"
      ]
     },
     "execution_count": 4,
     "metadata": {},
     "output_type": "execute_result"
    }
   ],
   "source": [
    "df.shape"
   ]
  },
  {
   "cell_type": "code",
   "execution_count": 5,
   "metadata": {},
   "outputs": [
    {
     "data": {
      "text/plain": [
       "user_id                   0\n",
       "group                     0\n",
       "landing_page              0\n",
       "time_spent_on_the_page    0\n",
       "converted                 0\n",
       "language_preferred        0\n",
       "dtype: int64"
      ]
     },
     "execution_count": 5,
     "metadata": {},
     "output_type": "execute_result"
    }
   ],
   "source": [
    "df.isnull().sum()"
   ]
  },
  {
   "cell_type": "markdown",
   "metadata": {},
   "source": [
    "#### Observations : \n",
    "\n",
    "    - dataset is clean with no null values\n",
    "    \n",
    "    - dataset contains 100 rows (users) and 6 columns (5 variables + 1useridcolumn)\n",
    "    \n",
    "    - 5 variables of which 1 is continuous variable and 4 are discrete variables\n",
    "          \n",
    "    - continuous variable is float type, which is ok, but the 4 categorical variables are of object type. \n",
    "    \n",
    "    - need to change object type into category type for easier forward manipulation.\n"
   ]
  },
  {
   "cell_type": "code",
   "execution_count": 6,
   "metadata": {},
   "outputs": [],
   "source": [
    "df['group'] = df['group'].astype('category')#convert type into category"
   ]
  },
  {
   "cell_type": "code",
   "execution_count": 7,
   "metadata": {},
   "outputs": [],
   "source": [
    "df['landing_page'] = df['landing_page'].astype('category')#convert type into category"
   ]
  },
  {
   "cell_type": "code",
   "execution_count": 8,
   "metadata": {},
   "outputs": [],
   "source": [
    "df['converted'] = df['converted'].astype('category')#convert type into category"
   ]
  },
  {
   "cell_type": "code",
   "execution_count": 9,
   "metadata": {},
   "outputs": [],
   "source": [
    "df['language_preferred'] = df['language_preferred'].astype('category')#convert type into category"
   ]
  },
  {
   "cell_type": "code",
   "execution_count": 10,
   "metadata": {},
   "outputs": [
    {
     "data": {
      "text/plain": [
       "['control', 'treatment']\n",
       "Categories (2, object): ['control', 'treatment']"
      ]
     },
     "execution_count": 10,
     "metadata": {},
     "output_type": "execute_result"
    }
   ],
   "source": [
    "df['group'].unique() #checking the different options of this categorical variable"
   ]
  },
  {
   "cell_type": "code",
   "execution_count": 11,
   "metadata": {},
   "outputs": [
    {
     "data": {
      "text/plain": [
       "['no', 'yes']\n",
       "Categories (2, object): ['no', 'yes']"
      ]
     },
     "execution_count": 11,
     "metadata": {},
     "output_type": "execute_result"
    }
   ],
   "source": [
    "df['converted'].unique() #checking the different options of this categorical variable"
   ]
  },
  {
   "cell_type": "code",
   "execution_count": 12,
   "metadata": {},
   "outputs": [
    {
     "data": {
      "text/plain": [
       "['old', 'new']\n",
       "Categories (2, object): ['old', 'new']"
      ]
     },
     "execution_count": 12,
     "metadata": {},
     "output_type": "execute_result"
    }
   ],
   "source": [
    "df['landing_page'].unique() #checking the different options of this categorical variable"
   ]
  },
  {
   "cell_type": "code",
   "execution_count": 13,
   "metadata": {},
   "outputs": [
    {
     "data": {
      "text/plain": [
       "['Spanish', 'English', 'French']\n",
       "Categories (3, object): ['Spanish', 'English', 'French']"
      ]
     },
     "execution_count": 13,
     "metadata": {},
     "output_type": "execute_result"
    }
   ],
   "source": [
    "df['language_preferred'].unique() #checking the different options of this categorical variable"
   ]
  },
  {
   "cell_type": "code",
   "execution_count": 14,
   "metadata": {},
   "outputs": [
    {
     "name": "stdout",
     "output_type": "stream",
     "text": [
      "treatment    50\n",
      "control      50\n",
      "Name: group, dtype: int64\n",
      "--------------------------------------------------\n",
      "old    50\n",
      "new    50\n",
      "Name: landing_page, dtype: int64\n",
      "--------------------------------------------------\n",
      "yes    54\n",
      "no     46\n",
      "Name: converted, dtype: int64\n",
      "--------------------------------------------------\n",
      "Spanish    34\n",
      "French     34\n",
      "English    32\n",
      "Name: language_preferred, dtype: int64\n",
      "--------------------------------------------------\n"
     ]
    }
   ],
   "source": [
    "#Making a list of all categorical variables \n",
    "cat_col=['group', 'landing_page', 'converted', 'language_preferred']\n",
    "\n",
    "#Printing number of count of each unique value in each column\n",
    "for column in cat_col:\n",
    "    print(df[column].value_counts())\n",
    "    print('-'*50)"
   ]
  },
  {
   "cell_type": "markdown",
   "metadata": {},
   "source": [
    "### Observations : \n",
    "\n",
    "the four categorical variables looks binomial. \n",
    "\n",
    "groups looks equally splitted between different category. All the groups are over 30, which may help use of the Central Limit Theorem, if needed.\n"
   ]
  },
  {
   "cell_type": "code",
   "execution_count": 15,
   "metadata": {},
   "outputs": [],
   "source": [
    "def histogram_boxplot(data, feature, kde=True, figsize=(12, 7), bins=None):\n",
    "    \"\"\"\n",
    "    Boxplot and histogram combined\n",
    "    data: dataframe\n",
    "    feature: dataframe column\n",
    "    figsize: size of figure (default (12,7))\n",
    "    kde: whether to show the density curve (default False)\n",
    "    bins: number of bins for histogram (default None)\n",
    "    \"\"\"\n",
    "    f2, (ax_box2, ax_hist2) = plt.subplots(\n",
    "        nrows=2,  # Number of rows of the subplot grid= 2\n",
    "        sharex=True,  # x-axis will be shared among all subplots\n",
    "        gridspec_kw={\"height_ratios\": (0.25, 0.75)},\n",
    "        figsize=figsize,\n",
    "    )  # creating the 2 subplots\n",
    "    mode = data[feature].mode()\n",
    "    \n",
    "    sns.boxplot(\n",
    "        data=data, x=feature, ax=ax_box2, showmeans=True, color=\"violet\"\n",
    "    )  # boxplot will be created and a star will indicate the mean value of the column\n",
    "    sns.histplot(\n",
    "        data=data, x=feature, kde=kde, ax=ax_hist2, bins=bins, palette=\"winter\"\n",
    "    ) if bins else sns.histplot(\n",
    "        data=data, x=feature, kde=kde, ax=ax_hist2\n",
    "    )  # For histogram\n",
    "    ax_hist2.axvline(\n",
    "        data[feature].mean(), color=\"green\", linestyle=\"--\"\n",
    "    )  # Add mean to the histogram\n",
    "    ax_hist2.axvline(\n",
    "        data[feature].median(), color=\"black\", linestyle=\"-\"\n",
    "    )  # Add median to the histogram\n",
    "    ax_hist2.axvline(mode[0], color=\"red\", linestyle='-')\n",
    "        #Add mode to the histogram"
   ]
  },
  {
   "cell_type": "code",
   "execution_count": 16,
   "metadata": {},
   "outputs": [
    {
     "data": {
      "image/png": "[encoded data removed]",
      "text/plain": [
       "<Figure size 864x504 with 2 Axes>"
      ]
     },
     "metadata": {
      "needs_background": "light"
     },
     "output_type": "display_data"
    }
   ],
   "source": [
    "histogram_boxplot(data=df, feature='time_spent_on_the_page')"
   ]
  },
  {
   "cell_type": "markdown",
   "metadata": {},
   "source": [
    "#### Observations : \n",
    "\n",
    "the time_spent_on_the_page variable looks to be normally distributed. The bell curve is classical. Median, Mode and Mean are equal. This will help use of normal distribution caracteristics later on. \n",
    "\n",
    "There are no outliers. "
   ]
  },
  {
   "cell_type": "code",
   "execution_count": 17,
   "metadata": {},
   "outputs": [],
   "source": [
    "def labeled_boxplot(data, feature1, feature2, feature3):\n",
    "    \n",
    "    #building arrays with median, quantile25 and quantile75 values of our sample\n",
    "    median = data.groupby(by=[feature1, feature2])[feature3].median().values\n",
    "    quantile25 = data.groupby(by=[feature1, feature2])[feature3].quantile(q=0.25).values\n",
    "    quantile75 = data.groupby(by=[feature1, feature2])[feature3].quantile(q=0.75).values\n",
    "    \n",
    "    #reordering data within arrays (boxplot and groupby are not ordering values in the same way)\n",
    "    median_array = (median[1], median[0], median[3], median[2])\n",
    "    quantile25_array = (quantile25[1], quantile25[0], quantile25[3], quantile25[2])\n",
    "    quantile75_array = (quantile75[1], quantile75[0], quantile75[3], quantile75[2])\n",
    "    \n",
    "    #Boxploting Gender, MaritalStatus and feature for data\n",
    "    ax = sns.boxplot(x=feature1, y=feature3, hue=feature2, data=data)\n",
    "    \n",
    "    #putting into variables the median, quantile25 and quantile75\n",
    "    a = median_array \n",
    "    b = quantile25_array\n",
    "    c = quantile75_array\n",
    "\n",
    "    #implementing counter\n",
    "    ind = 0\n",
    "    #showing Median value on boxplot\n",
    "\n",
    "    for tick in range(len(ax.get_xticklabels())):\n",
    "        ax.text(tick-.2, a[ind+1], a[ind+1], horizontalalignment='center', size=10, color='b')\n",
    "        ax.text(tick+.2, a[ind], a[ind], horizontalalignment='center', size=10, color='b')\n",
    "        ind+=2\n",
    "    \n",
    "    #showing quantile25 on Boxplot\n",
    "    ind = 0\n",
    "    for tick in range(len(ax.get_xticklabels())):\n",
    "        ax.text(tick-.4, b[ind+1], b[ind+1], horizontalalignment='left', size=10, color='b')\n",
    "        ax.text(tick, b[ind], b[ind], horizontalalignment='left', size=10, color='b')\n",
    "        ind+=2\n",
    "\n",
    "    #showing quantile75 on Boxplot\n",
    "    ind=0\n",
    "    for tick in range(len(ax.get_xticklabels())):\n",
    "        ax.text(tick-.4, c[ind+1], c[ind+1], horizontalalignment='left', size=10, color='b')\n",
    "        ax.text(tick, c[ind], c[ind], horizontalalignment='left', size=10, color='b')\n",
    "        ind+=2\n",
    "    \n",
    "    plt.show()"
   ]
  },
  {
   "cell_type": "code",
   "execution_count": 18,
   "metadata": {},
   "outputs": [],
   "source": [
    "def labeled_boxplot3(data, feature1, feature2, feature3):\n",
    "    \n",
    "    #building arrays with median, quantile25 and quantile75 values of our sample\n",
    "    median = data.groupby(by=[feature1, feature2])[feature3].median().values\n",
    "    quantile25 = data.groupby(by=[feature1, feature2])[feature3].quantile(q=0.25).values\n",
    "    quantile75 = data.groupby(by=[feature1, feature2])[feature3].quantile(q=0.75).values\n",
    "    \n",
    "    #reordering data within arrays (boxplot and groupby are not ordering values in the same way)\n",
    "    median_array = (median[2], median[1], median[0], median[5], median[4], median[3])\n",
    "    quantile25_array = (round(quantile25[2],2), round(quantile25[1],2), round(quantile25[0],2), round(quantile25[5],2), round(quantile25[4],2), round(quantile25[3],2))\n",
    "    quantile75_array = (round(quantile75[2],2), round(quantile75[1],2), round(quantile75[0],2), round(quantile75[5],2), round(quantile75[4],2), round(quantile75[3],2))\n",
    "    \n",
    "    #Boxploting Gender, MaritalStatus and feature for data\n",
    "    ax = sns.boxplot(x=feature1, y=feature3, hue=feature2, data=data)\n",
    "    \n",
    "    #putting into variables the median, quantile25 and quantile75\n",
    "    a = median_array \n",
    "    b = quantile25_array\n",
    "    c = quantile75_array\n",
    "\n",
    "    #implementing counter\n",
    "    ind = 0\n",
    "    #showing Median value on boxplot\n",
    "\n",
    "    for tick in range(len(ax.get_xticklabels())):\n",
    "        ax.text(tick+0.3, a[ind], a[ind], horizontalalignment='center', size=10, color='b')\n",
    "        ax.text(tick, a[ind+1], a[ind+1], horizontalalignment='center', size=10, color='b')\n",
    "        ax.text(tick-0.3, a[ind+2], a[ind+2], horizontalalignment='center', size=10, color='b')\n",
    "        ind+=3\n",
    "    \n",
    "    #showing quantile25 on Boxplot\n",
    "    ind = 0\n",
    "    for tick in range(len(ax.get_xticklabels())):\n",
    "        ax.text(tick-.3, b[ind+2], b[ind+2], horizontalalignment='center', size=10, color='b')\n",
    "        ax.text(tick, b[ind+1], b[ind+1], horizontalalignment='center', size=10, color='b')\n",
    "        ax.text(tick+.3, b[ind], b[ind], horizontalalignment='center', size=10, color='b')\n",
    "        ind+=3\n",
    "\n",
    "    #showing quantile75 on Boxplot\n",
    "    ind=0\n",
    "    for tick in range(len(ax.get_xticklabels())):\n",
    "        ax.text(tick-.3, c[ind+2], c[ind+2], horizontalalignment='center', size=10, color='b')\n",
    "        ax.text(tick, c[ind+1], c[ind+1], horizontalalignment='center', size=10, color='b')\n",
    "        ax.text(tick+.3, c[ind], c[ind], horizontalalignment='center', size=10, color='b')\n",
    "        ind+=3\n",
    "    \n",
    "    plt.show()"
   ]
  },
  {
   "cell_type": "code",
   "execution_count": 19,
   "metadata": {},
   "outputs": [],
   "source": [
    "#defining a function to compare discrete variables\n",
    "def feature_interactions(df,feature1, feature2,continuous_col):\n",
    "    #selecting the group of data needed with the 2 discrete variable (feature1, feature2) and the continuous one (continuous col)\n",
    "    group = df.groupby([feature1,feature2],as_index=False)[continuous_col].mean().reset_index(drop=True)\n",
    "    #pivoting table with feature 1 as y and feature 2 as x\n",
    "    pivot = group.pivot(index=feature1, columns=feature2, values=continuous_col)\n",
    "    #sizing the figure\n",
    "    plt.figure(figsize=(10,6))\n",
    "    #ploting with heatmap\n",
    "    sns.heatmap(pivot,cmap='Reds')\n",
    "    #showing the graph\n",
    "    plt.show()"
   ]
  },
  {
   "cell_type": "code",
   "execution_count": 20,
   "metadata": {},
   "outputs": [
    {
     "data": {
      "image/png": "[encoded data removed]",
      "text/plain": [
       "<Figure size 432x288 with 1 Axes>"
      ]
     },
     "metadata": {
      "needs_background": "light"
     },
     "output_type": "display_data"
    }
   ],
   "source": [
    "labeled_boxplot(df, feature1='landing_page', feature2='converted',feature3='time_spent_on_the_page')"
   ]
  },
  {
   "cell_type": "code",
   "execution_count": 21,
   "metadata": {},
   "outputs": [
    {
     "data": {
      "image/png": "[encoded data removed]",
      "text/plain": [
       "<Figure size 720x432 with 2 Axes>"
      ]
     },
     "metadata": {
      "needs_background": "light"
     },
     "output_type": "display_data"
    }
   ],
   "source": [
    "feature_interactions(df, feature1='landing_page', feature2='converted', continuous_col='time_spent_on_the_page')"
   ]
  },
  {
   "cell_type": "markdown",
   "metadata": {},
   "source": [
    "Observations : \n",
    "\n",
    "- time_spent_on_the_page looks to be higher for the converted vs the not converted ones. This is the same whether the page is the new one or the old one, meaning treatment and control groups. \n",
    "\n",
    "- time spent between old page and new page looks to be different, but this have to be confirmed later.\n"
   ]
  },
  {
   "cell_type": "code",
   "execution_count": 22,
   "metadata": {},
   "outputs": [
    {
     "data": {
      "image/png": "[encoded data removed]",
      "text/plain": [
       "<Figure size 432x288 with 1 Axes>"
      ]
     },
     "metadata": {
      "needs_background": "light"
     },
     "output_type": "display_data"
    }
   ],
   "source": [
    "labeled_boxplot3(df, feature1='landing_page', feature2='language_preferred',feature3='time_spent_on_the_page')"
   ]
  },
  {
   "cell_type": "code",
   "execution_count": 23,
   "metadata": {},
   "outputs": [
    {
     "data": {
      "image/png": "[encoded data removed]",
      "text/plain": [
       "<Figure size 720x432 with 2 Axes>"
      ]
     },
     "metadata": {
      "needs_background": "light"
     },
     "output_type": "display_data"
    }
   ],
   "source": [
    "feature_interactions(df, feature1='landing_page', feature2='language_preferred', continuous_col='time_spent_on_the_page')"
   ]
  },
  {
   "cell_type": "markdown",
   "metadata": {},
   "source": [
    "Observations : \n",
    "\n",
    "- globally it confirms previous observation, meaning time_spent_on_the_page is higher for the new page than the old page. \n",
    "\n",
    "- it looks to be some differences between preferred language users, but difficult to say if it's significant at this stage.\n",
    "\n",
    "- few outliers. \n"
   ]
  },
  {
   "cell_type": "markdown",
   "metadata": {},
   "source": [
    "Conclusions : \n",
    "\n",
    "- Data are clean with no null values\n",
    "\n",
    "- Data looks equally splitted between groups and each have more than 30 constituants\n",
    "\n",
    "- the continuous variable (time_spent_on_the_page) looks to be normally distributed. \n",
    "\n",
    "- it looks to be some differences between new and old page landing in time spent. This has to be confirmed. \n",
    "\n",
    "- it looks to be some differences between new and old page landing in time spent depending on preferred_languages. This has to be confirmed. \n",
    "\n",
    "- it looks that there could be some differences between the converted and the time spend. This has to be confirmed.\n"
   ]
  },
  {
   "cell_type": "markdown",
   "metadata": {},
   "source": [
    "# 2 Do the users spent more time on the new landing page than the old landing page?"
   ]
  },
  {
   "cell_type": "code",
   "execution_count": 24,
   "metadata": {},
   "outputs": [
    {
     "data": {
      "text/html": [
       "<div>\n",
       "<style scoped>\n",
       "    .dataframe tbody tr th:only-of-type {\n",
       "        vertical-align: middle;\n",
       "    }\n",
       "\n",
       "    .dataframe tbody tr th {\n",
       "        vertical-align: top;\n",
       "    }\n",
       "\n",
       "    .dataframe thead th {\n",
       "        text-align: right;\n",
       "    }\n",
       "</style>\n",
       "<table border=\"1\" class=\"dataframe\">\n",
       "  <thead>\n",
       "    <tr style=\"text-align: right;\">\n",
       "      <th></th>\n",
       "      <th>user_id</th>\n",
       "      <th>group</th>\n",
       "      <th>time_spent_on_the_page</th>\n",
       "      <th>converted</th>\n",
       "      <th>language_preferred</th>\n",
       "      <th>landing_page_new</th>\n",
       "      <th>landing_page_old</th>\n",
       "    </tr>\n",
       "  </thead>\n",
       "  <tbody>\n",
       "    <tr>\n",
       "      <th>0</th>\n",
       "      <td>546592</td>\n",
       "      <td>control</td>\n",
       "      <td>3.48</td>\n",
       "      <td>no</td>\n",
       "      <td>Spanish</td>\n",
       "      <td>0</td>\n",
       "      <td>1</td>\n",
       "    </tr>\n",
       "    <tr>\n",
       "      <th>1</th>\n",
       "      <td>546468</td>\n",
       "      <td>treatment</td>\n",
       "      <td>7.13</td>\n",
       "      <td>yes</td>\n",
       "      <td>English</td>\n",
       "      <td>1</td>\n",
       "      <td>0</td>\n",
       "    </tr>\n",
       "    <tr>\n",
       "      <th>2</th>\n",
       "      <td>546462</td>\n",
       "      <td>treatment</td>\n",
       "      <td>4.40</td>\n",
       "      <td>no</td>\n",
       "      <td>Spanish</td>\n",
       "      <td>1</td>\n",
       "      <td>0</td>\n",
       "    </tr>\n",
       "    <tr>\n",
       "      <th>3</th>\n",
       "      <td>546567</td>\n",
       "      <td>control</td>\n",
       "      <td>3.02</td>\n",
       "      <td>no</td>\n",
       "      <td>French</td>\n",
       "      <td>0</td>\n",
       "      <td>1</td>\n",
       "    </tr>\n",
       "    <tr>\n",
       "      <th>4</th>\n",
       "      <td>546459</td>\n",
       "      <td>treatment</td>\n",
       "      <td>4.75</td>\n",
       "      <td>yes</td>\n",
       "      <td>Spanish</td>\n",
       "      <td>1</td>\n",
       "      <td>0</td>\n",
       "    </tr>\n",
       "  </tbody>\n",
       "</table>\n",
       "</div>"
      ],
      "text/plain": [
       "   user_id      group  time_spent_on_the_page converted language_preferred  \\\n",
       "0   546592    control                    3.48        no            Spanish   \n",
       "1   546468  treatment                    7.13       yes            English   \n",
       "2   546462  treatment                    4.40        no            Spanish   \n",
       "3   546567    control                    3.02        no             French   \n",
       "4   546459  treatment                    4.75       yes            Spanish   \n",
       "\n",
       "   landing_page_new  landing_page_old  \n",
       "0                 0                 1  \n",
       "1                 1                 0  \n",
       "2                 1                 0  \n",
       "3                 0                 1  \n",
       "4                 1                 0  "
      ]
     },
     "execution_count": 24,
     "metadata": {},
     "output_type": "execute_result"
    }
   ],
   "source": [
    "df1 = pd.get_dummies(data=df, columns=['landing_page'])#transforming the categorical variable column 'landing_page' for further treatment\n",
    "df1.head()#checking results"
   ]
  },
  {
   "cell_type": "code",
   "execution_count": 25,
   "metadata": {},
   "outputs": [
    {
     "data": {
      "text/html": [
       "<div>\n",
       "<style scoped>\n",
       "    .dataframe tbody tr th:only-of-type {\n",
       "        vertical-align: middle;\n",
       "    }\n",
       "\n",
       "    .dataframe tbody tr th {\n",
       "        vertical-align: top;\n",
       "    }\n",
       "\n",
       "    .dataframe thead th {\n",
       "        text-align: right;\n",
       "    }\n",
       "</style>\n",
       "<table border=\"1\" class=\"dataframe\">\n",
       "  <thead>\n",
       "    <tr style=\"text-align: right;\">\n",
       "      <th></th>\n",
       "      <th>time_spent_on_the_page</th>\n",
       "      <th>landing_page_old</th>\n",
       "    </tr>\n",
       "  </thead>\n",
       "  <tbody>\n",
       "    <tr>\n",
       "      <th>0</th>\n",
       "      <td>3.48</td>\n",
       "      <td>1</td>\n",
       "    </tr>\n",
       "    <tr>\n",
       "      <th>1</th>\n",
       "      <td>7.13</td>\n",
       "      <td>0</td>\n",
       "    </tr>\n",
       "    <tr>\n",
       "      <th>2</th>\n",
       "      <td>4.40</td>\n",
       "      <td>0</td>\n",
       "    </tr>\n",
       "    <tr>\n",
       "      <th>3</th>\n",
       "      <td>3.02</td>\n",
       "      <td>1</td>\n",
       "    </tr>\n",
       "    <tr>\n",
       "      <th>4</th>\n",
       "      <td>4.75</td>\n",
       "      <td>0</td>\n",
       "    </tr>\n",
       "  </tbody>\n",
       "</table>\n",
       "</div>"
      ],
      "text/plain": [
       "   time_spent_on_the_page  landing_page_old\n",
       "0                    3.48                 1\n",
       "1                    7.13                 0\n",
       "2                    4.40                 0\n",
       "3                    3.02                 1\n",
       "4                    4.75                 0"
      ]
     },
     "execution_count": 25,
     "metadata": {},
     "output_type": "execute_result"
    }
   ],
   "source": [
    "df2 = df1.filter(items=['time_spent_on_the_page','landing_page_old'])#keeping the continuous variable column and the categorical one\n",
    "df2.head()#checking"
   ]
  },
  {
   "cell_type": "code",
   "execution_count": 26,
   "metadata": {},
   "outputs": [
    {
     "data": {
      "text/html": [
       "<div>\n",
       "<style scoped>\n",
       "    .dataframe tbody tr th:only-of-type {\n",
       "        vertical-align: middle;\n",
       "    }\n",
       "\n",
       "    .dataframe tbody tr th {\n",
       "        vertical-align: top;\n",
       "    }\n",
       "\n",
       "    .dataframe thead th {\n",
       "        text-align: right;\n",
       "    }\n",
       "</style>\n",
       "<table border=\"1\" class=\"dataframe\">\n",
       "  <thead>\n",
       "    <tr style=\"text-align: right;\">\n",
       "      <th></th>\n",
       "      <th>time_spent_on_the_page</th>\n",
       "      <th>landing_page_old</th>\n",
       "    </tr>\n",
       "  </thead>\n",
       "  <tbody>\n",
       "    <tr>\n",
       "      <th>0</th>\n",
       "      <td>3.48</td>\n",
       "      <td>1</td>\n",
       "    </tr>\n",
       "    <tr>\n",
       "      <th>3</th>\n",
       "      <td>3.02</td>\n",
       "      <td>1</td>\n",
       "    </tr>\n",
       "    <tr>\n",
       "      <th>5</th>\n",
       "      <td>5.28</td>\n",
       "      <td>1</td>\n",
       "    </tr>\n",
       "    <tr>\n",
       "      <th>7</th>\n",
       "      <td>6.53</td>\n",
       "      <td>1</td>\n",
       "    </tr>\n",
       "    <tr>\n",
       "      <th>9</th>\n",
       "      <td>2.08</td>\n",
       "      <td>1</td>\n",
       "    </tr>\n",
       "  </tbody>\n",
       "</table>\n",
       "</div>"
      ],
      "text/plain": [
       "   time_spent_on_the_page  landing_page_old\n",
       "0                    3.48                 1\n",
       "3                    3.02                 1\n",
       "5                    5.28                 1\n",
       "7                    6.53                 1\n",
       "9                    2.08                 1"
      ]
     },
     "execution_count": 26,
     "metadata": {},
     "output_type": "execute_result"
    }
   ],
   "source": [
    "df3 = df2.query('landing_page_old==1')#selecting the landing_page_old users\n",
    "df3.head()#checking"
   ]
  },
  {
   "cell_type": "code",
   "execution_count": 60,
   "metadata": {},
   "outputs": [
    {
     "name": "stdout",
     "output_type": "stream",
     "text": [
      "the time spent mean of the landing old page users is : 4.5324\n",
      "the time spent var of the landing old page users is : 6.6666\n",
      "the time spent standard deviation of the landing old page users is : 2.582\n"
     ]
    }
   ],
   "source": [
    "#printing the mean, var and std values of the first sample\n",
    "a = df3['time_spent_on_the_page'].mean()\n",
    "b= df3['time_spent_on_the_page'].var()\n",
    "c = df3['time_spent_on_the_page'].std()\n",
    "print('the time spent mean of the landing old page users is :', round(a, 4))\n",
    "print('the time spent var of the landing old page users is :', round(b, 4))\n",
    "print('the time spent standard deviation of the landing old page users is :', round(c, 4))"
   ]
  },
  {
   "cell_type": "code",
   "execution_count": 28,
   "metadata": {},
   "outputs": [
    {
     "data": {
      "text/html": [
       "<div>\n",
       "<style scoped>\n",
       "    .dataframe tbody tr th:only-of-type {\n",
       "        vertical-align: middle;\n",
       "    }\n",
       "\n",
       "    .dataframe tbody tr th {\n",
       "        vertical-align: top;\n",
       "    }\n",
       "\n",
       "    .dataframe thead th {\n",
       "        text-align: right;\n",
       "    }\n",
       "</style>\n",
       "<table border=\"1\" class=\"dataframe\">\n",
       "  <thead>\n",
       "    <tr style=\"text-align: right;\">\n",
       "      <th></th>\n",
       "      <th>time_spent_on_the_page</th>\n",
       "      <th>landing_page_new</th>\n",
       "    </tr>\n",
       "  </thead>\n",
       "  <tbody>\n",
       "    <tr>\n",
       "      <th>1</th>\n",
       "      <td>7.13</td>\n",
       "      <td>1</td>\n",
       "    </tr>\n",
       "    <tr>\n",
       "      <th>2</th>\n",
       "      <td>4.40</td>\n",
       "      <td>1</td>\n",
       "    </tr>\n",
       "    <tr>\n",
       "      <th>4</th>\n",
       "      <td>4.75</td>\n",
       "      <td>1</td>\n",
       "    </tr>\n",
       "    <tr>\n",
       "      <th>6</th>\n",
       "      <td>5.25</td>\n",
       "      <td>1</td>\n",
       "    </tr>\n",
       "    <tr>\n",
       "      <th>8</th>\n",
       "      <td>10.71</td>\n",
       "      <td>1</td>\n",
       "    </tr>\n",
       "  </tbody>\n",
       "</table>\n",
       "</div>"
      ],
      "text/plain": [
       "   time_spent_on_the_page  landing_page_new\n",
       "1                    7.13                 1\n",
       "2                    4.40                 1\n",
       "4                    4.75                 1\n",
       "6                    5.25                 1\n",
       "8                   10.71                 1"
      ]
     },
     "execution_count": 28,
     "metadata": {},
     "output_type": "execute_result"
    }
   ],
   "source": [
    "df4 = df1.filter(items=['time_spent_on_the_page','landing_page_new'])#selecting continuous variable column and categorical variable column\n",
    "df5 = df4.query('landing_page_new==1')#selecting the landing_page_new users\n",
    "df5.head()#checking"
   ]
  },
  {
   "cell_type": "code",
   "execution_count": 61,
   "metadata": {},
   "outputs": [
    {
     "name": "stdout",
     "output_type": "stream",
     "text": [
      "the time spent mean of the landing new page users is : 6.2232\n",
      "the time spent var of the landing new page users is : 3.3016\n",
      "the time spent standard deviation of the landing new page users is : 1.817\n"
     ]
    }
   ],
   "source": [
    "d = df5['time_spent_on_the_page'].mean()\n",
    "e = df5['time_spent_on_the_page'].var()\n",
    "f = df5['time_spent_on_the_page'].std()\n",
    "print('the time spent mean of the landing new page users is :', round(d, 4))\n",
    "print('the time spent var of the landing new page users is :', round(e, 4))\n",
    "print('the time spent standard deviation of the landing new page users is :', round(f , 4))"
   ]
  },
  {
   "cell_type": "code",
   "execution_count": 30,
   "metadata": {},
   "outputs": [
    {
     "data": {
      "text/plain": [
       "50"
      ]
     },
     "execution_count": 30,
     "metadata": {},
     "output_type": "execute_result"
    }
   ],
   "source": [
    "df3['time_spent_on_the_page'].count()#checking the number of observations on sample 1"
   ]
  },
  {
   "cell_type": "code",
   "execution_count": 31,
   "metadata": {},
   "outputs": [
    {
     "data": {
      "text/plain": [
       "50"
      ]
     },
     "execution_count": 31,
     "metadata": {},
     "output_type": "execute_result"
    }
   ],
   "source": [
    "df5['time_spent_on_the_page'].count()#checking the number of observations on sample 2"
   ]
  },
  {
   "cell_type": "markdown",
   "metadata": {},
   "source": [
    "Taking into account that we are comparing two means of a continuous variable, with a known variance/standard deviation, we will perform a one-tailed Z-test."
   ]
  },
  {
   "cell_type": "markdown",
   "metadata": {},
   "source": [
    "### Null and alternative hypothesis"
   ]
  },
  {
   "cell_type": "markdown",
   "metadata": {},
   "source": [
    "\n",
    "Let  𝜇  be the mean time spent on the page. \n",
    "\n",
    "𝜇1 : mean time spent of the new landing page users\n",
    "\n",
    "𝜇2 : mean time spent of the old landing page users\n",
    "\n",
    "The nul hypothesis is equality of means, in other words there is no difference in time spent between the two groups\n",
    "\n",
    ">$𝐻o:𝜇1=𝜇2$\n",
    "\n",
    "The alternate Hypothesis is the time spent mean of the new page users is higher than the old page ones.\n",
    "\n",
    ">$𝐻𝑎:𝜇1>𝜇2$"
   ]
  },
  {
   "cell_type": "markdown",
   "metadata": {},
   "source": [
    "### Z-test assumptions checking"
   ]
  },
  {
   "cell_type": "markdown",
   "metadata": {},
   "source": [
    "Continuous data - The time spent on the page are measured on a continuous scale.\n",
    "\n",
    "Normally distributed populations or Sample sizes > 30 - Since the sample sizes are greater than 30, Central Limit Theorem states that the distribution of sample means will be normal.\n",
    "\n",
    "Independent populations - As we are taking samples for two different users (control/treatment, converted yes/no), the two samples are from two independent populations.\n",
    "\n",
    "Known population standard deviation  𝜎1  and  𝜎2  - Yes, we know the population standard deviations of both populations.\n",
    "\n",
    "Random sampling from the population - Yes, we are informed that the collected sample is a simple random sample."
   ]
  },
  {
   "cell_type": "markdown",
   "metadata": {},
   "source": [
    "### pvalue calculation"
   ]
  },
  {
   "cell_type": "code",
   "execution_count": 62,
   "metadata": {},
   "outputs": [],
   "source": [
    "# user-defined function to compare the equality of two means from two independent populations, where population standard deviations are known\n",
    "# this function returns the p-value for one tailed test\n",
    "# for two-tailed test, multiply the p-value by 2\n",
    "# To know more about the derivation of test statistic and standard error formula, please refer to the monographs and additional materials\n",
    "def ztest_2samp(X1, X2, pop_sd1, pop_sd2, n1, n2):\n",
    "    '''\n",
    "    X1 - first of the two independent samples (sample 1)\n",
    "    X2 - second of the two independent samples (sample 2)\n",
    "    pop_sd1 - population standard deviation of sample 1\n",
    "    pop_sd2 - population standard deviation of sample 2\n",
    "    n1 - size of sample 1\n",
    "    n2 - size of sample 2\n",
    "    '''\n",
    "    from numpy import sqrt, abs # import the required functions\n",
    "    from scipy.stats import norm # import the required function\n",
    "    se = sqrt(pop_sd1**2/n1 + pop_sd2**2/n2) # calculate the standard error\n",
    "    test_stat = ((X1.mean() - X2.mean()) - 0)/ se # calculate the test statistic\n",
    "    pval = 1 - norm.cdf(abs(test_stat)) # calculate the one-tailed p-value\n",
    "    return print('the pvalue is :', pval, 'the test_stat is :', round(test_stat, 4)) # return the p-value and test stat value"
   ]
  },
  {
   "cell_type": "code",
   "execution_count": 63,
   "metadata": {},
   "outputs": [
    {
     "name": "stdout",
     "output_type": "stream",
     "text": [
      "the pvalue is : 7.630904034416908e-05 the test_stat is : 3.7868\n"
     ]
    }
   ],
   "source": [
    "#performing a ztest on the 2 sample to determine the p_value\n",
    "ztest_2samp(df5['time_spent_on_the_page'], df3['time_spent_on_the_page'], df5['time_spent_on_the_page'].std(), df3['time_spent_on_the_page'].std(), 50, 50)\n"
   ]
  },
  {
   "cell_type": "markdown",
   "metadata": {},
   "source": [
    "### Graphic Approach"
   ]
  },
  {
   "cell_type": "code",
   "execution_count": 34,
   "metadata": {},
   "outputs": [
    {
     "name": "stdout",
     "output_type": "stream",
     "text": [
      "the critical val is 1.6449\n"
     ]
    }
   ],
   "source": [
    "# import the required function\n",
    "from scipy.stats import norm\n",
    "\n",
    "# find the critical value\n",
    "critical_val = norm.ppf(1-.05)\n",
    "print('the critical val is {}'.format(round((critical_val), 4)))"
   ]
  },
  {
   "cell_type": "code",
   "execution_count": 77,
   "metadata": {},
   "outputs": [
    {
     "data": {
      "image/png": "[encoded data removed]",
      "text/plain": [
       "<Figure size 432x288 with 1 Axes>"
      ]
     },
     "metadata": {
      "needs_background": "light"
     },
     "output_type": "display_data"
    }
   ],
   "source": [
    "# plotting the test statistic distribution and indicating the rejection and acceptance region\n",
    "# We are plotting the distributions here to better visualize the calculations\n",
    "x = np.linspace(-4, 4, 100) # create an array of 100 numbers starting from -4 and ending at 4\n",
    "plt.plot(x, norm.pdf(x, 0, 1)) # plot the pdf of the normal distribution\n",
    "plt.axvline(x = critical_val, c = 'r', label='critical val line') # draw a vertical red line through the mentioned point\n",
    "x1 = np.linspace(critical_val, 4, 50) # create an array of 50 numbers starting from the critical value and ending at 4\n",
    "plt.fill_between(x1, norm.pdf(x1, 0, 1), color='red') # fill the area under the curve after the critical value with red color\n",
    "#draw a vertical line on test var value and label it for legend issue\n",
    "plt.axvline(x=3.7867, linestyle='--', color='black', label='time spent value new vs old')\n",
    "plt.xlabel('Standardized time spent variable') #adding legend on x axis\n",
    "plt.ylabel('Probability')#adding legend on y axis\n",
    "plt.annotate('Reject Null', (2, 0.20)) # annotate the mentioned text at the mentioned location\n",
    "plt.annotate('  Do Not Reject\\n        Null', (-1, 0.20)) # annotate the mentioned text at the mentioned location\n",
    "plt.legend(loc=2)#printing legend on upper left corner\n",
    "plt.title('Users time spent on the new page vs the old one')#adding title\n",
    "plt.show() # display the plot"
   ]
  },
  {
   "cell_type": "markdown",
   "metadata": {},
   "source": [
    "### Conclusion :\n",
    "\n",
    "pvalue is far below the level of significance (5%). Thus we can reject the Null Hypothesis. The alternative Hypothesis is validated. So we can say that the time spent, in average, on the page by the users is higher on the new page than the old one.\n",
    "\n",
    "The graphic approach confirm this conclusion the tested var is in the null rejection region."
   ]
  },
  {
   "cell_type": "markdown",
   "metadata": {},
   "source": [
    "## 3 Is the conversion rate (the proportion of users who visit the landing page and get converted) for the new page greater than  the conversion rate for the old page?"
   ]
  },
  {
   "cell_type": "code",
   "execution_count": 36,
   "metadata": {},
   "outputs": [
    {
     "data": {
      "text/plain": [
       "converted  landing_page\n",
       "no         new             17\n",
       "           old             29\n",
       "yes        new             33\n",
       "           old             21\n",
       "Name: time_spent_on_the_page, dtype: int64"
      ]
     },
     "execution_count": 36,
     "metadata": {},
     "output_type": "execute_result"
    }
   ],
   "source": [
    "#determining the number of converted users between the new_landing_page and the old_landing_page\n",
    "df.groupby(by=['converted','landing_page'])['time_spent_on_the_page'].count()"
   ]
  },
  {
   "cell_type": "markdown",
   "metadata": {},
   "source": [
    "Taking into account that we are comparing two proportions of two dicrete variables, we will perform a two proportion Z-test"
   ]
  },
  {
   "cell_type": "markdown",
   "metadata": {},
   "source": [
    "#### Null and alternative Hypothesis\n",
    "\n",
    "let p1 the proportion of new page converted and p2 the proportion of old page converted\n",
    "\n",
    ">$Ho : p1=p2$\n",
    "\n",
    "There is no difference between p1 and p2.\n",
    "\n",
    ">$Ha : p1 > p2$\n",
    "\n",
    "The conversion rate is greater with new page versus old page"
   ]
  },
  {
   "cell_type": "markdown",
   "metadata": {},
   "source": [
    "#### Z-test assumptions checking\n",
    "\n",
    "Binomally distributed population - Yes, a converted user can be either on the new page or the old page.\n",
    "\n",
    "Random sampling from the population - Yes, we are informed that the collected sample is a simple random sample.\n",
    "\n",
    "Can the binomial distribution approximated to normal distribution - Yes. For binary data, CLT works slower than usual. The standard thing is to check whether np and n(1-p) are greater than or equal to 10. Here, n and p refer to the sample size and sample proportion respectively.\n",
    "\n",
    ">$ np_1=50 \\cdot \\cfrac {33} {50} = 33 \\geq10 \\\\\n",
    "n(1-p_1)=50 \\cdot \\frac {50-33} {50} = 17 \\geq 10 \\\\\n",
    "np_2=50 \\cdot \\cfrac {21} {50} = 21 \\geq 10 \\\\\n",
    "n(1-p_2)=50 \\cdot \\cfrac {50-21} {50} = 29 \\geq 10 $"
   ]
  },
  {
   "cell_type": "code",
   "execution_count": 76,
   "metadata": {},
   "outputs": [
    {
     "name": "stdout",
     "output_type": "stream",
     "text": [
      "the pvalue is 0.0161\n"
     ]
    }
   ],
   "source": [
    "#import the appropriate function\n",
    "from statsmodels.stats.proportion import proportions_ztest\n",
    "\n",
    "#build an array with the converted new and old page\n",
    "converted_count = np.array([33,21])\n",
    "\n",
    "#build an array with the total count of each group\n",
    "nobs = np.array([50,50])\n",
    "\n",
    "#pvalue calculation\n",
    "test_var, p_value = proportions_ztest(converted_count, nobs)\n",
    "#printing pvalue\n",
    "print('the pvalue is {}'.format(round(p_value,4)))"
   ]
  },
  {
   "cell_type": "markdown",
   "metadata": {},
   "source": [
    "### Graphic Approach"
   ]
  },
  {
   "cell_type": "code",
   "execution_count": 38,
   "metadata": {},
   "outputs": [
    {
     "name": "stdout",
     "output_type": "stream",
     "text": [
      "the critical val is 1.6449\n"
     ]
    }
   ],
   "source": [
    "# import the required function\n",
    "from scipy.stats import norm\n",
    "\n",
    "# find the critical value\n",
    "critical_val = norm.ppf(1-.05)\n",
    "print('the critical val is {}'.format(round((critical_val), 4)))"
   ]
  },
  {
   "cell_type": "code",
   "execution_count": 39,
   "metadata": {},
   "outputs": [
    {
     "data": {
      "image/png": "[encoded data removed]",
      "text/plain": [
       "<Figure size 432x288 with 1 Axes>"
      ]
     },
     "metadata": {
      "needs_background": "light"
     },
     "output_type": "display_data"
    }
   ],
   "source": [
    "# plotting the test statistic distribution and indicating the rejection and acceptance region\n",
    "# We are plotting the distributions here to better visualize the calculations\n",
    "x = np.linspace(-4, 4, 100) # create an array of 100 numbers starting from -4 and ending at 4\n",
    "plt.plot(x, norm.pdf(x, 0, 1)) # plot the pdf of the normal distribution\n",
    "plt.axvline(x = critical_val, c = 'r', label='critical val line') # draw a vertical red line through the mentioned point\n",
    "x1 = np.linspace(critical_val, 4, 50) # create an array of 50 numbers starting from the critical value and ending at 4\n",
    "plt.fill_between(x1, norm.pdf(x1, 0, 1), color='red') # fill the area under the curve after the critical value with red color\n",
    "plt.axvline(x=test_var, linestyle='--', color='black', label='converted user proportion new vs old')\n",
    "plt.xlabel('Standardized converted proportion users variable')\n",
    "plt.ylabel('Probability')\n",
    "plt.annotate('Reject Null', (2, 0.20)) # annotate the mentioned text at the mentioned location\n",
    "plt.annotate('  Do Not Reject\\n        Null', (-1, 0.20)) # annotate the mentioned text at the mentioned location\n",
    "plt.legend(loc=2)\n",
    "plt.title('Converted users proportion new vs old')\n",
    "plt.show() # display the plot"
   ]
  },
  {
   "cell_type": "markdown",
   "metadata": {},
   "source": [
    "#### Conclusion\n",
    "\n",
    "pvalue is far below the 5% significance level. So we can reject the null Hypothesis. Thus, the alternative one is validated. The conversion rate is higher with the new page than the old page. \n",
    "\n",
    "The graphic approach confirm this conclusion as the tested variable is in the reject null region.\n"
   ]
  },
  {
   "cell_type": "markdown",
   "metadata": {},
   "source": [
    "## 4- Does the converted status depend on the preferred language? [Hint: Create a contingency table using the pandas.crosstab() function]"
   ]
  },
  {
   "cell_type": "code",
   "execution_count": 40,
   "metadata": {},
   "outputs": [
    {
     "data": {
      "text/html": [
       "<div>\n",
       "<style scoped>\n",
       "    .dataframe tbody tr th:only-of-type {\n",
       "        vertical-align: middle;\n",
       "    }\n",
       "\n",
       "    .dataframe tbody tr th {\n",
       "        vertical-align: top;\n",
       "    }\n",
       "\n",
       "    .dataframe thead th {\n",
       "        text-align: right;\n",
       "    }\n",
       "</style>\n",
       "<table border=\"1\" class=\"dataframe\">\n",
       "  <thead>\n",
       "    <tr style=\"text-align: right;\">\n",
       "      <th>converted</th>\n",
       "      <th>no</th>\n",
       "      <th>yes</th>\n",
       "    </tr>\n",
       "    <tr>\n",
       "      <th>language_preferred</th>\n",
       "      <th></th>\n",
       "      <th></th>\n",
       "    </tr>\n",
       "  </thead>\n",
       "  <tbody>\n",
       "    <tr>\n",
       "      <th>English</th>\n",
       "      <td>11</td>\n",
       "      <td>21</td>\n",
       "    </tr>\n",
       "    <tr>\n",
       "      <th>French</th>\n",
       "      <td>19</td>\n",
       "      <td>15</td>\n",
       "    </tr>\n",
       "    <tr>\n",
       "      <th>Spanish</th>\n",
       "      <td>16</td>\n",
       "      <td>18</td>\n",
       "    </tr>\n",
       "  </tbody>\n",
       "</table>\n",
       "</div>"
      ],
      "text/plain": [
       "converted           no  yes\n",
       "language_preferred         \n",
       "English             11   21\n",
       "French              19   15\n",
       "Spanish             16   18"
      ]
     },
     "execution_count": 40,
     "metadata": {},
     "output_type": "execute_result"
    }
   ],
   "source": [
    "#preparing the contingency table\n",
    "cont_table= pd.crosstab(df['language_preferred'],df['converted'])\n",
    "cont_table.head()"
   ]
  },
  {
   "cell_type": "markdown",
   "metadata": {},
   "source": [
    "Taking into account that we are studying the independency of two discrete variables, we will perform a Chi Square test of independence"
   ]
  },
  {
   "cell_type": "markdown",
   "metadata": {},
   "source": [
    "#### Hypothesis\n",
    "\n",
    "We will test the null hypothesis\n",
    "\n",
    ">$ Ho : converted \\ status \\ is \\ independent \\ from \\ preferred \\ language $\n",
    "\n",
    "Against the alternative one\n",
    "\n",
    ">$ Ha : converted \\ status \\ is \\ NOT \\ independent \\ from \\ preferred \\ language $\n"
   ]
  },
  {
   "cell_type": "markdown",
   "metadata": {},
   "source": [
    "#### Assumptions\n",
    "\n",
    "* Categorical variables - Yes\n",
    "* Expected value of the number of sample observations in each level of the variable is at least 5 - Yes, the number of observations in each level is greater than 5.\n",
    "* Random sampling from the population - Yes, we are informed that the collected sample is a simple random sample.\n"
   ]
  },
  {
   "cell_type": "code",
   "execution_count": 41,
   "metadata": {},
   "outputs": [
    {
     "data": {
      "image/png": "[encoded data removed]",
      "text/plain": [
       "<Figure size 432x288 with 3 Axes>"
      ]
     },
     "metadata": {
      "needs_background": "light"
     },
     "output_type": "display_data"
    }
   ],
   "source": [
    "from statsmodels.graphics.mosaicplot import mosaic\n",
    "data = df.filter(items=['language_preferred','converted'])\n",
    "mosaic(data, ['language_preferred','converted'], title='converted and language prefered users')\n",
    "plt.show()"
   ]
  },
  {
   "cell_type": "code",
   "execution_count": 42,
   "metadata": {},
   "outputs": [
    {
     "name": "stdout",
     "output_type": "stream",
     "text": [
      "The p-value is  0.2129888748754345\n"
     ]
    }
   ],
   "source": [
    "#import the required functions\n",
    "from scipy.stats import chi2_contingency\n",
    "\n",
    "chi, p_value, dof, expected = chi2_contingency(cont_table)\n",
    "print('The p-value is ', p_value)"
   ]
  },
  {
   "cell_type": "markdown",
   "metadata": {},
   "source": [
    "#### Conclusions\n",
    "\n",
    "p_value is higher than the 5% relevance (alpha). So we cannot reject the null hypothesis. Converted Status is independent from preferred language of the users."
   ]
  },
  {
   "cell_type": "markdown",
   "metadata": {},
   "source": [
    " ## 5- Is the mean time spent on the new page same for the different language users?"
   ]
  },
  {
   "cell_type": "code",
   "execution_count": 43,
   "metadata": {},
   "outputs": [
    {
     "data": {
      "text/html": [
       "<div>\n",
       "<style scoped>\n",
       "    .dataframe tbody tr th:only-of-type {\n",
       "        vertical-align: middle;\n",
       "    }\n",
       "\n",
       "    .dataframe tbody tr th {\n",
       "        vertical-align: top;\n",
       "    }\n",
       "\n",
       "    .dataframe thead th {\n",
       "        text-align: right;\n",
       "    }\n",
       "</style>\n",
       "<table border=\"1\" class=\"dataframe\">\n",
       "  <thead>\n",
       "    <tr style=\"text-align: right;\">\n",
       "      <th></th>\n",
       "      <th>time_spent_on_the_page</th>\n",
       "      <th>language_preferred</th>\n",
       "      <th>landing_page_new</th>\n",
       "    </tr>\n",
       "  </thead>\n",
       "  <tbody>\n",
       "    <tr>\n",
       "      <th>0</th>\n",
       "      <td>3.48</td>\n",
       "      <td>Spanish</td>\n",
       "      <td>0</td>\n",
       "    </tr>\n",
       "    <tr>\n",
       "      <th>1</th>\n",
       "      <td>7.13</td>\n",
       "      <td>English</td>\n",
       "      <td>1</td>\n",
       "    </tr>\n",
       "    <tr>\n",
       "      <th>2</th>\n",
       "      <td>4.40</td>\n",
       "      <td>Spanish</td>\n",
       "      <td>1</td>\n",
       "    </tr>\n",
       "    <tr>\n",
       "      <th>3</th>\n",
       "      <td>3.02</td>\n",
       "      <td>French</td>\n",
       "      <td>0</td>\n",
       "    </tr>\n",
       "    <tr>\n",
       "      <th>4</th>\n",
       "      <td>4.75</td>\n",
       "      <td>Spanish</td>\n",
       "      <td>1</td>\n",
       "    </tr>\n",
       "  </tbody>\n",
       "</table>\n",
       "</div>"
      ],
      "text/plain": [
       "   time_spent_on_the_page language_preferred  landing_page_new\n",
       "0                    3.48            Spanish                 0\n",
       "1                    7.13            English                 1\n",
       "2                    4.40            Spanish                 1\n",
       "3                    3.02             French                 0\n",
       "4                    4.75            Spanish                 1"
      ]
     },
     "execution_count": 43,
     "metadata": {},
     "output_type": "execute_result"
    }
   ],
   "source": [
    "#selecting the columns time_spent_on_the_page, language_preferred and landing_page_new\n",
    "df6 = df1.filter(items=(['time_spent_on_the_page', 'language_preferred', 'landing_page_new']))\n",
    "df6.head()#checking results"
   ]
  },
  {
   "cell_type": "code",
   "execution_count": 44,
   "metadata": {},
   "outputs": [
    {
     "data": {
      "text/html": [
       "<div>\n",
       "<style scoped>\n",
       "    .dataframe tbody tr th:only-of-type {\n",
       "        vertical-align: middle;\n",
       "    }\n",
       "\n",
       "    .dataframe tbody tr th {\n",
       "        vertical-align: top;\n",
       "    }\n",
       "\n",
       "    .dataframe thead th {\n",
       "        text-align: right;\n",
       "    }\n",
       "</style>\n",
       "<table border=\"1\" class=\"dataframe\">\n",
       "  <thead>\n",
       "    <tr style=\"text-align: right;\">\n",
       "      <th></th>\n",
       "      <th>time_spent_on_the_page</th>\n",
       "      <th>language_preferred</th>\n",
       "      <th>landing_page_new</th>\n",
       "    </tr>\n",
       "  </thead>\n",
       "  <tbody>\n",
       "    <tr>\n",
       "      <th>1</th>\n",
       "      <td>7.13</td>\n",
       "      <td>English</td>\n",
       "      <td>1</td>\n",
       "    </tr>\n",
       "    <tr>\n",
       "      <th>2</th>\n",
       "      <td>4.40</td>\n",
       "      <td>Spanish</td>\n",
       "      <td>1</td>\n",
       "    </tr>\n",
       "    <tr>\n",
       "      <th>4</th>\n",
       "      <td>4.75</td>\n",
       "      <td>Spanish</td>\n",
       "      <td>1</td>\n",
       "    </tr>\n",
       "    <tr>\n",
       "      <th>6</th>\n",
       "      <td>5.25</td>\n",
       "      <td>French</td>\n",
       "      <td>1</td>\n",
       "    </tr>\n",
       "    <tr>\n",
       "      <th>8</th>\n",
       "      <td>10.71</td>\n",
       "      <td>French</td>\n",
       "      <td>1</td>\n",
       "    </tr>\n",
       "  </tbody>\n",
       "</table>\n",
       "</div>"
      ],
      "text/plain": [
       "   time_spent_on_the_page language_preferred  landing_page_new\n",
       "1                    7.13            English                 1\n",
       "2                    4.40            Spanish                 1\n",
       "4                    4.75            Spanish                 1\n",
       "6                    5.25             French                 1\n",
       "8                   10.71             French                 1"
      ]
     },
     "execution_count": 44,
     "metadata": {},
     "output_type": "execute_result"
    }
   ],
   "source": [
    "#selecting only the landing_page_new users\n",
    "df7 = df6.query('landing_page_new==1')\n",
    "df7.head()#checking"
   ]
  },
  {
   "cell_type": "code",
   "execution_count": 45,
   "metadata": {},
   "outputs": [
    {
     "data": {
      "text/plain": [
       "language_preferred\n",
       "English    6.663750\n",
       "French     6.196471\n",
       "Spanish    5.835294\n",
       "Name: time_spent_on_the_page, dtype: float64"
      ]
     },
     "execution_count": 45,
     "metadata": {},
     "output_type": "execute_result"
    }
   ],
   "source": [
    "#determining the 3 time_spent_on_the_page means for each language_preferred subgroup\n",
    "df7.groupby('language_preferred')['time_spent_on_the_page'].mean()"
   ]
  },
  {
   "cell_type": "markdown",
   "metadata": {},
   "source": [
    "As we will compare more than two means of continuous variable depending on a dicrete one, we will perform an ANOVA test."
   ]
  },
  {
   "cell_type": "markdown",
   "metadata": {},
   "source": [
    "#### Hypothesis to be tested\n",
    "\n",
    "Let $\\mu_1, \\mu_2, \\mu_3$ be the means of time spent for english preferred language users, french preferred language users and spanish preferred language users respectively.\n",
    "\n",
    "We will test the null hypothesis\n",
    "\n",
    ">$H_0: \\mu_1 = \\mu_2 = \\mu_3$\n",
    "\n",
    "against the alternative hypothesis\n",
    "\n",
    ">$H_a: $ At least one time spent mean is different from the rest."
   ]
  },
  {
   "cell_type": "code",
   "execution_count": 46,
   "metadata": {},
   "outputs": [
    {
     "data": {
      "image/png": "[encoded data removed]",
      "text/plain": [
       "<Figure size 432x432 with 1 Axes>"
      ]
     },
     "metadata": {
      "needs_background": "light"
     },
     "output_type": "display_data"
    }
   ],
   "source": [
    "fig, ax = plt.subplots(figsize = (6,6))\n",
    "a = sns.boxplot(x= \"language_preferred\", y = 'time_spent_on_the_page' , data = df7)\n",
    "a.set_title(\"Time spent per preferred language users converted (3 languages)\", fontsize=15)\n",
    "plt.show()"
   ]
  },
  {
   "cell_type": "markdown",
   "metadata": {},
   "source": [
    "#### Observations\n",
    "\n",
    "visually speaking the means looks quite different. However, when it comes to numbers ( $\\mu_1 =6.663750, \\mu_2 = 6.196471, \\mu_3 = 5.835294$) this is not so obvious. \n"
   ]
  },
  {
   "cell_type": "markdown",
   "metadata": {},
   "source": [
    "Now, the normality and equality of variance assumptions need to be checked. \n",
    "\n",
    "* For testing of normality, Shapiro-Wilk’s test is applied to the response variable.\n",
    "\n",
    "* For equality of variance, Levene test is applied to the response variable."
   ]
  },
  {
   "cell_type": "markdown",
   "metadata": {},
   "source": [
    "#### Shapiro-Wilk’s test\n",
    "We will test the null hypothesis\n",
    "\n",
    ">$𝐻o:  time \\ spent \\ on \\ the \\ page \\ follows \\ a \\ normal \\ distribution \\ against$\n",
    "\n",
    "against the alternative hypothesis\n",
    "\n",
    ">$𝐻𝑎:  time \\ spent \\ on \\ the \\ page \\ does \\ not \\ follow \\ a \\ normal \\ distribution$"
   ]
  },
  {
   "cell_type": "code",
   "execution_count": 47,
   "metadata": {},
   "outputs": [
    {
     "name": "stdout",
     "output_type": "stream",
     "text": [
      "The p-value is 0.8040016293525696\n"
     ]
    }
   ],
   "source": [
    "# Assumption 1: Normality\n",
    "# import the required function\n",
    "from scipy import stats\n",
    "\n",
    "# find the p-value\n",
    "w, p_value = stats.shapiro(df7['time_spent_on_the_page']) \n",
    "print('The p-value is', p_value)"
   ]
  },
  {
   "cell_type": "markdown",
   "metadata": {},
   "source": [
    "#### Observations : \n",
    "\n",
    "* the pvalue is far higher than the 5% significance level. Thus, we cannot reject the Null Hypothesis. So the time spent on the page follows a normal distribution"
   ]
  },
  {
   "cell_type": "markdown",
   "metadata": {},
   "source": [
    "#### Levene’s test\n",
    "\n",
    "We will test the null hypothesis\n",
    "\n",
    "> $𝐻o : All \\ the \\ population \\ variances \\ are \\ equal $\n",
    "\n",
    "against the alternative hypothesis\n",
    "\n",
    "> $𝐻𝑎 : At \\ least \\ one \\ variance \\ is \\ different \\ from \\ the \\ rest $"
   ]
  },
  {
   "cell_type": "code",
   "execution_count": 48,
   "metadata": {},
   "outputs": [
    {
     "name": "stdout",
     "output_type": "stream",
     "text": [
      "The p-value is 0.46711357711340173\n"
     ]
    }
   ],
   "source": [
    "#Assumption 2: Homogeneity of Variance\n",
    "#import the required function\n",
    "from scipy.stats import levene\n",
    "statistic, p_value = levene( df7['time_spent_on_the_page'][df7['language_preferred']==\"English\"], \n",
    "                                   df7['time_spent_on_the_page'][df7['language_preferred']==\"French\"], \n",
    "                                   df7['time_spent_on_the_page'][df7['language_preferred']==\"Spanish\"])\n",
    "# find the p-value\n",
    "print('The p-value is', p_value)"
   ]
  },
  {
   "cell_type": "markdown",
   "metadata": {},
   "source": [
    "#### Observations\n",
    "\n",
    "* the pvalue is far higher than the 5% level of signicance (alpha). Thus we cannot reject the null hypothesis. The time spent on the page variable variances are equal.\n"
   ]
  },
  {
   "cell_type": "markdown",
   "metadata": {},
   "source": [
    "### Assumptions checking\n",
    "\n",
    "* The populations are normally distributed - Yes, the normality assumption is verified using the Shapiro-Wilk’s test.\n",
    "* Samples are independent simple random samples - Yes, we are informed that the collected sample is a simple random sample.\n",
    "* Population variances are equal - Yes, the homogeneity of variance assumption is verified using the Levene's test."
   ]
  },
  {
   "cell_type": "markdown",
   "metadata": {},
   "source": [
    "### pvalue calculation"
   ]
  },
  {
   "cell_type": "code",
   "execution_count": 49,
   "metadata": {},
   "outputs": [
    {
     "name": "stdout",
     "output_type": "stream",
     "text": [
      "The p-value is 0.43204138694325955\n"
     ]
    }
   ],
   "source": [
    "#import the required function\n",
    "from scipy.stats import f_oneway\n",
    "\n",
    "# perform one-way anova test\n",
    "test_stat, p_value = f_oneway(df7.loc[df7['language_preferred'] == 'English', 'time_spent_on_the_page'],\n",
    "                              df7.loc[df7['language_preferred'] == 'French', 'time_spent_on_the_page'],\n",
    "                              df7.loc[df7['language_preferred'] == 'Spanish', 'time_spent_on_the_page'])\n",
    "print('The p-value is ' + str(p_value))"
   ]
  },
  {
   "cell_type": "markdown",
   "metadata": {},
   "source": [
    "### Graphic Approach"
   ]
  },
  {
   "cell_type": "code",
   "execution_count": 50,
   "metadata": {},
   "outputs": [
    {
     "name": "stdout",
     "output_type": "stream",
     "text": [
      "the first critical val is 1.96\n",
      "the second critical val is -1.96\n"
     ]
    }
   ],
   "source": [
    "# import the required function\n",
    "from scipy.stats import norm\n",
    "\n",
    "# find the critical values\n",
    "critical_val1 = norm.ppf(1-.05/2)\n",
    "critical_val2 = norm.ppf(0.05/2)\n",
    "print('the first critical val is {}'.format(round((critical_val1), 4)))\n",
    "print('the second critical val is {}'.format(round((critical_val2), 4)))"
   ]
  },
  {
   "cell_type": "code",
   "execution_count": 51,
   "metadata": {},
   "outputs": [
    {
     "data": {
      "image/png": "[encoded data removed]",
      "text/plain": [
       "<Figure size 432x288 with 1 Axes>"
      ]
     },
     "metadata": {
      "needs_background": "light"
     },
     "output_type": "display_data"
    }
   ],
   "source": [
    "# plot the rejection and acceptance region\n",
    "# We are plotting the distributions here to better visualize the calculations\n",
    "x = np.linspace(-4, 4, 100) # create an array of 100 numbers starting from -4 and ending at 4\n",
    "plt.plot(x, norm.pdf(x, 0, 1)) # plot the pdf of the normal distribution\n",
    "plt.axvline(x = critical_val1, c = 'r', label='critical val') # draw a vertical red line through the mentioned point\n",
    "x1 = np.linspace(critical_val1, 4, 50) # create an array of 50 numbers starting from the critical value and ending at 4\n",
    "plt.fill_between(x1, norm.pdf(x1, 0, 1), color='r') # fill the area under the curve after the critical value with red color\n",
    "plt.axvline(x = critical_val2, c = 'r') # draw a vertical red line through the mentioned point\n",
    "x1 = np.linspace(-4, critical_val2, 50) # create an array of 50 numbers starting from -4 and ending at the critical value\n",
    "plt.fill_between(x1, norm.pdf(x1, 0, 1), color='r') # fill the area under the curve before the critical value with red color\n",
    "plt.axvline(x=test_stat, linestyle='--', color='black', label='time spent vs language preferred')\n",
    "plt.annotate('Reject Null', (2.2, 0.20)) # annotate the mentioned text at the mentioned location\n",
    "plt.annotate('Reject Null', (-3.5, 0.20)) # annotate the mentioned text at the mentioned location\n",
    "plt.annotate('  Do Not Reject\\n        Null', (-1, 0.20)) # annotate the mentioned text at the mentioned location\n",
    "plt.xlabel('standardized time spent per language preferred variable')\n",
    "plt.ylabel('Probability')\n",
    "plt.title('Difference in time spent per preferred language users')\n",
    "plt.legend(loc=2)\n",
    "plt.show() # display the plot"
   ]
  },
  {
   "cell_type": "markdown",
   "metadata": {},
   "source": [
    "### Conclusions\n",
    "\n",
    "* pvalue is far higher than the 5% significance level. Thus, we cannot reject the null hypothesis. So the mean time spent on the page per preferred language group are equals. There is no differences between the different subgroup.\n",
    "\n",
    "* the graphic approach confirm this conclusion"
   ]
  },
  {
   "cell_type": "markdown",
   "metadata": {},
   "source": [
    "### Business Conclusions\n",
    "\n",
    "* The time spent by users, in average, is higher on the new page than the old one\n",
    "* The new page has a higher conversion rate than the old one\n",
    "* There is no relation between the conversion rate and the preferred language of users\n",
    "* The users spent the same time, in average, on the new page whatever their preferred language is. In other words, there is no preferred language/culture discrimination. All preferred language users feel confortable with the new page.\n",
    "\n",
    "This reinforce the quality of new page vs the old one. thus, this is a validation of the new page.\n",
    "\n",
    "Therefore, we recommand to implement the new page as the official new one and to ban the old one. \n",
    "\n",
    "This new page is multicultural, multi_language, which makes it accessible by a wide range of users. Thus this strengthen the communication policy of the company towards any users. \n",
    "\n",
    "#### Deeper Analysis : \n",
    "\n",
    "We recommand to test other preferred language in order to check the acceptance of the new page by other culture users. "
   ]
  },
  {
   "cell_type": "code",
   "execution_count": null,
   "metadata": {},
   "outputs": [],
   "source": []
  }
 ],
 "metadata": {
  "kernelspec": {
   "display_name": "Python 3",
   "language": "python",
   "name": "python3"
  },
  "language_info": {
   "codemirror_mode": {
    "name": "ipython",
    "version": 3
   },
   "file_extension": ".py",
   "mimetype": "text/x-python",
   "name": "python",
   "nbconvert_exporter": "python",
   "pygments_lexer": "ipython3",
   "version": "3.8.5"
  }
 },
 "nbformat": 4,
 "nbformat_minor": 4
}
